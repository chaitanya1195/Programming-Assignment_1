{
 "cells": [
  {
   "cell_type": "code",
   "execution_count": 14,
   "id": "d7cf85f9",
   "metadata": {},
   "outputs": [
    {
     "name": "stdout",
     "output_type": "stream",
     "text": [
      "\"Hello Python\"\n"
     ]
    }
   ],
   "source": [
    "#1 Write a Python program to print \"Hello Python\"?\n",
    "\n",
    "print('\"Hello Python\"')"
   ]
  },
  {
   "cell_type": "code",
   "execution_count": 15,
   "id": "7bbda911",
   "metadata": {},
   "outputs": [
    {
     "name": "stdout",
     "output_type": "stream",
     "text": [
      "13\n",
      "0.625\n"
     ]
    }
   ],
   "source": [
    "#2 Write a Python program to do arithmetical operations addition and division.?\n",
    "\n",
    "x = 5\n",
    "y = 8\n",
    "print(x + y)\n",
    "print(x / y)"
   ]
  },
  {
   "cell_type": "code",
   "execution_count": 16,
   "id": "2e1ae512",
   "metadata": {},
   "outputs": [
    {
     "name": "stdout",
     "output_type": "stream",
     "text": [
      "Enter base value of triangle: 54\n",
      "Enter heitght value of triangle: 87\n",
      "Area of triangle is  2349.0\n"
     ]
    }
   ],
   "source": [
    "#3 Write a Python program to find the area of a triangle?\n",
    "\n",
    "b = int(input(\"Enter base value of triangle: \"))\n",
    "h = int(input(\"Enter heitght value of triangle: \"))\n",
    "\n",
    "area = (b*h)/2\n",
    "print(\"Area of triangle is \", area)"
   ]
  },
  {
   "cell_type": "code",
   "execution_count": 18,
   "id": "e11e3a5b",
   "metadata": {},
   "outputs": [
    {
     "name": "stdout",
     "output_type": "stream",
     "text": [
      "enter value of a: 5454\n",
      "enter value of b: 987897\n",
      "the value of a after swapping: 987897\n",
      "the value of b after swapping: 5454\n"
     ]
    }
   ],
   "source": [
    "#4 Write a Python program to swap two variables?\n",
    "\n",
    "a = input(\"enter value of a: \")\n",
    "b = input(\"enter value of b: \")\n",
    "\n",
    "temp = a\n",
    "a = b\n",
    "b = temp\n",
    "\n",
    "print(\"the value of a after swapping: {}\".format(a))\n",
    "print(\"the value of b after swapping: {}\".format(b))"
   ]
  },
  {
   "cell_type": "code",
   "execution_count": 19,
   "id": "b9fff160",
   "metadata": {},
   "outputs": [
    {
     "name": "stdout",
     "output_type": "stream",
     "text": [
      "0.9230886215983818\n"
     ]
    }
   ],
   "source": [
    "#5 Write a Python program to generate a random number?\n",
    "\n",
    "import random\n",
    "n = random.random()\n",
    "print(n)"
   ]
  }
 ],
 "metadata": {
  "kernelspec": {
   "display_name": "Python 3 (ipykernel)",
   "language": "python",
   "name": "python3"
  },
  "language_info": {
   "codemirror_mode": {
    "name": "ipython",
    "version": 3
   },
   "file_extension": ".py",
   "mimetype": "text/x-python",
   "name": "python",
   "nbconvert_exporter": "python",
   "pygments_lexer": "ipython3",
   "version": "3.9.12"
  }
 },
 "nbformat": 4,
 "nbformat_minor": 5
}
